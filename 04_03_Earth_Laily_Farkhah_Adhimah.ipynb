{
  "nbformat": 4,
  "nbformat_minor": 0,
  "metadata": {
    "colab": {
      "provenance": []
    },
    "kernelspec": {
      "name": "python3",
      "display_name": "Python 3"
    },
    "language_info": {
      "name": "python"
    }
  },
  "cells": [
    {
      "cell_type": "markdown",
      "source": [
        "# MNIST HANDWRITING"
      ],
      "metadata": {
        "id": "fp2ESUxQv25r"
      }
    },
    {
      "cell_type": "markdown",
      "source": [
        "Deep Learning for MNIST Handwritten Digit Classification using PyTorch.\n",
        "This is an exploration task. Develop your end-to-end workflow for solving\n",
        "a Handwritten Digit Classification task using Neural Network architecture\n",
        "(not Convolutional Neural Network). These are the criteria for scoring:\n"
      ],
      "metadata": {
        "id": "DMLiaSEUgNcg"
      }
    },
    {
      "cell_type": "code",
      "source": [
        "#Import all libraries\n",
        "import torch\n",
        "import torch.nn as nn\n",
        "import torch.optim as optim\n",
        "import torchvision\n",
        "import torchvision.transforms as transforms"
      ],
      "metadata": {
        "id": "iF--Gg5Kp8X8"
      },
      "execution_count": null,
      "outputs": []
    },
    {
      "cell_type": "markdown",
      "source": [
        "###1. Loading your MNIST dataset for the data loader"
      ],
      "metadata": {
        "id": "EaQfg0HJgbC6"
      }
    },
    {
      "cell_type": "code",
      "source": [
        "# Step 1: Load MNIST dataset for the data loader\n",
        "transform = transforms.Compose([transforms.ToTensor(), transforms.Normalize((0.5,), (0.5,))])\n",
        "\n",
        "mnist_trainset = torchvision.datasets.MNIST(root='./data', train=True, download=True, transform=transform)\n",
        "train_loader = torch.utils.data.DataLoader(mnist_trainset, batch_size=64, shuffle=True)\n",
        "\n",
        "mnist_testset = torchvision.datasets.MNIST(root='./data', train=False, download=True, transform=transform)\n",
        "test_loader = torch.utils.data.DataLoader(mnist_testset, batch_size=64, shuffle=False)\n"
      ],
      "metadata": {
        "colab": {
          "base_uri": "https://localhost:8080/"
        },
        "id": "x5g_HRlKkz0k",
        "outputId": "3007659d-d22c-4ee3-cb09-d0c1821cf2d8"
      },
      "execution_count": null,
      "outputs": [
        {
          "output_type": "stream",
          "name": "stdout",
          "text": [
            "Downloading http://yann.lecun.com/exdb/mnist/train-images-idx3-ubyte.gz\n",
            "Downloading http://yann.lecun.com/exdb/mnist/train-images-idx3-ubyte.gz to ./data/MNIST/raw/train-images-idx3-ubyte.gz\n"
          ]
        },
        {
          "output_type": "stream",
          "name": "stderr",
          "text": [
            "100%|██████████| 9912422/9912422 [00:00<00:00, 29509006.39it/s]\n"
          ]
        },
        {
          "output_type": "stream",
          "name": "stdout",
          "text": [
            "Extracting ./data/MNIST/raw/train-images-idx3-ubyte.gz to ./data/MNIST/raw\n",
            "\n",
            "Downloading http://yann.lecun.com/exdb/mnist/train-labels-idx1-ubyte.gz\n",
            "Downloading http://yann.lecun.com/exdb/mnist/train-labels-idx1-ubyte.gz to ./data/MNIST/raw/train-labels-idx1-ubyte.gz\n"
          ]
        },
        {
          "output_type": "stream",
          "name": "stderr",
          "text": [
            "100%|██████████| 28881/28881 [00:00<00:00, 55617857.59it/s]\n"
          ]
        },
        {
          "output_type": "stream",
          "name": "stdout",
          "text": [
            "Extracting ./data/MNIST/raw/train-labels-idx1-ubyte.gz to ./data/MNIST/raw\n",
            "\n",
            "Downloading http://yann.lecun.com/exdb/mnist/t10k-images-idx3-ubyte.gz\n",
            "Downloading http://yann.lecun.com/exdb/mnist/t10k-images-idx3-ubyte.gz to ./data/MNIST/raw/t10k-images-idx3-ubyte.gz\n"
          ]
        },
        {
          "output_type": "stream",
          "name": "stderr",
          "text": [
            "100%|██████████| 1648877/1648877 [00:00<00:00, 38808409.35it/s]\n"
          ]
        },
        {
          "output_type": "stream",
          "name": "stdout",
          "text": [
            "Extracting ./data/MNIST/raw/t10k-images-idx3-ubyte.gz to ./data/MNIST/raw\n",
            "\n",
            "Downloading http://yann.lecun.com/exdb/mnist/t10k-labels-idx1-ubyte.gz\n",
            "Downloading http://yann.lecun.com/exdb/mnist/t10k-labels-idx1-ubyte.gz to ./data/MNIST/raw/t10k-labels-idx1-ubyte.gz\n"
          ]
        },
        {
          "output_type": "stream",
          "name": "stderr",
          "text": [
            "100%|██████████| 4542/4542 [00:00<00:00, 12165088.61it/s]\n"
          ]
        },
        {
          "output_type": "stream",
          "name": "stdout",
          "text": [
            "Extracting ./data/MNIST/raw/t10k-labels-idx1-ubyte.gz to ./data/MNIST/raw\n",
            "\n"
          ]
        }
      ]
    },
    {
      "cell_type": "markdown",
      "source": [
        "###2. Visualize several MNIST datasets"
      ],
      "metadata": {
        "id": "rJ8Q00n8kHgs"
      }
    },
    {
      "cell_type": "code",
      "source": [
        "# Step 2: Visualize several MNIST datasets\n",
        "\n",
        "import matplotlib.pyplot as plt\n",
        "%matplotlib inline\n",
        "\n",
        "#define a functon to plot images\n",
        "def plot_images(images):\n",
        "  fig, axs = plt.subplots(1, len(images), figsize=(12, 6))\n",
        "  for i, image in enumerate(images):\n",
        "    axs[i].imshow(image.squeeze().numpy(), cmap='gray')\n",
        "    axs[i].axis('off')\n",
        "\n",
        "#get some images\n",
        "images, labels = next(iter(train_loader))\n",
        "plot_images(images[:10])"
      ],
      "metadata": {
        "colab": {
          "base_uri": "https://localhost:8080/",
          "height": 115
        },
        "id": "aT0TbP5xkJhB",
        "outputId": "2757be9a-603f-4684-9806-4221fe3ccf41"
      },
      "execution_count": null,
      "outputs": [
        {
          "output_type": "display_data",
          "data": {
            "text/plain": [
              "<Figure size 1200x600 with 10 Axes>"
            ],
            "image/png": "[encoded data removed]"
          },
          "metadata": {}
        }
      ]
    },
    {
      "cell_type": "markdown",
      "source": [
        "###3. Design your Neural Network model"
      ],
      "metadata": {
        "id": "k96nXSxUkMLD"
      }
    },
    {
      "cell_type": "code",
      "source": [
        "class Net(nn.Module):\n",
        "  def __init__(self):\n",
        "    super(Net, self).__init__()\n",
        "    self.linear1 = nn.Linear(28*28, 100)\n",
        "    self.linear2 = nn.Linear(100, 50)\n",
        "    self.final = nn.Linear(50, 10)\n",
        "    self.relu = nn.ReLU()\n",
        "\n",
        "  def forward(self, img):\n",
        "    x = img.view(-1, 28*28)\n",
        "    x = self.relu(self.linear1(x))\n",
        "    x = self.relu(self.linear2(x))\n",
        "    x = self.final(x)\n",
        "    return x\n",
        "\n",
        "net = Net()"
      ],
      "metadata": {
        "id": "OJN_oK30kqKW"
      },
      "execution_count": null,
      "outputs": []
    },
    {
      "cell_type": "markdown",
      "source": [
        "###4. Setup your hyperparameter such as Loss Function, Optimizer, Learning Rate, etc"
      ],
      "metadata": {
        "id": "5mqh5AZOkOAO"
      }
    },
    {
      "cell_type": "code",
      "source": [
        "cross_el = nn.CrossEntropyLoss()\n",
        "optimizer = torch.optim.Adam(net.parameters(), lr=0.001)\n",
        "epoch = 20"
      ],
      "metadata": {
        "id": "Y9ixnJO2ktrY"
      },
      "execution_count": null,
      "outputs": []
    },
    {
      "cell_type": "markdown",
      "source": [
        "###5. Develop a training loop and run a training model"
      ],
      "metadata": {
        "id": "476bSVHikSdK"
      }
    },
    {
      "cell_type": "code",
      "source": [
        "for epoch in range(epoch):\n",
        "  net.train()\n",
        "  running_loss = 0.0\n",
        "\n",
        "  for data in train_loader:\n",
        "    x, y = data\n",
        "    optimizer.zero_grad()\n",
        "    output = net(x.view(-1, 28*28))\n",
        "    loss = cross_el(output, y)\n",
        "    loss.backward()\n",
        "    optimizer.step()\n",
        "\n",
        "    running_loss += loss.item()\n",
        "\n",
        "  print(f'[{epoch + 1}, {epoch + 1:5d}] loss : {running_loss / 2000:.5f}')"
      ],
      "metadata": {
        "colab": {
          "base_uri": "https://localhost:8080/"
        },
        "id": "KKB4NQGWkx5b",
        "outputId": "9e1aa43d-0592-45ad-9fe1-5174e0673030"
      },
      "execution_count": null,
      "outputs": [
        {
          "output_type": "stream",
          "name": "stdout",
          "text": [
            "[1,     1] loss : 0.20647\n",
            "[2,     2] loss : 0.10130\n",
            "[3,     3] loss : 0.07721\n",
            "[4,     4] loss : 0.06303\n",
            "[5,     5] loss : 0.05435\n",
            "[6,     6] loss : 0.04740\n",
            "[7,     7] loss : 0.04242\n",
            "[8,     8] loss : 0.03799\n",
            "[9,     9] loss : 0.03543\n",
            "[10,    10] loss : 0.03259\n",
            "[11,    11] loss : 0.03001\n",
            "[12,    12] loss : 0.02792\n",
            "[13,    13] loss : 0.02512\n",
            "[14,    14] loss : 0.02513\n",
            "[15,    15] loss : 0.02297\n",
            "[16,    16] loss : 0.02233\n",
            "[17,    17] loss : 0.02027\n",
            "[18,    18] loss : 0.01906\n",
            "[19,    19] loss : 0.01832\n",
            "[20,    20] loss : 0.01807\n"
          ]
        }
      ]
    },
    {
      "cell_type": "markdown",
      "source": [
        "###6. Evaluate the Model using several performance metrics such as accuracy, confusion matrix, F1 Score, Precision, Recall, etc"
      ],
      "metadata": {
        "id": "J_xyrnjokZOg"
      }
    },
    {
      "cell_type": "code",
      "source": [
        "# Step 6: Evaluate the Model\n",
        "from sklearn.metrics import accuracy_score, confusion_matrix, classification_report, precision_score, f1_score\n",
        "\n",
        "correct = 0\n",
        "total = 0\n",
        "all_labels = []\n",
        "all_predictions = []\n",
        "\n",
        "with torch.no_grad():\n",
        "    for data in test_loader:\n",
        "        images, labels = data\n",
        "        outputs = net(images)\n",
        "        _, predicted = torch.max(outputs.data, 1)\n",
        "        total += labels.size(0)\n",
        "        correct += (predicted == labels).sum().item()\n",
        "        all_labels.extend(labels.numpy())\n",
        "        all_predictions.extend(predicted.numpy())\n",
        "\n",
        "accuracy = accuracy_score(all_labels, all_predictions)\n",
        "confusion = confusion_matrix(all_labels, all_predictions)\n",
        "classification_report_str = classification_report(all_labels, all_predictions)\n",
        "\n",
        "print(f\"Accuracy: {accuracy * 100}%\")\n",
        "print(\"Confusion Matrix:\")\n",
        "print(confusion)\n",
        "print(\"Classification Report:\")\n",
        "print(classification_report_str)"
      ],
      "metadata": {
        "colab": {
          "base_uri": "https://localhost:8080/"
        },
        "id": "a5r6sNTdkyjo",
        "outputId": "ed1002d7-f2e4-4b9e-cea5-5a4bf113f974"
      },
      "execution_count": null,
      "outputs": [
        {
          "output_type": "stream",
          "name": "stdout",
          "text": [
            "Accuracy: 97.53%\n",
            "Confusion Matrix:\n",
            "[[ 963    0    3    0    0    0    7    3    4    0]\n",
            " [   0 1129    0    1    0    1    2    1    1    0]\n",
            " [   3    2 1009    4    1    0    3    5    5    0]\n",
            " [   0    0    8  987    0    2    0    5    7    1]\n",
            " [   0    1    8    0  965    0    3    2    2    1]\n",
            " [   4    0    0    7    1  855   10    1   13    1]\n",
            " [   4    2    3    0    2    4  942    0    1    0]\n",
            " [   1    5   15    4    2    1    1  991    1    7]\n",
            " [   5    0    5    2    2    0    5    3  950    2]\n",
            " [   1    2    0    4   21    4    2    2   11  962]]\n",
            "Classification Report:\n",
            "              precision    recall  f1-score   support\n",
            "\n",
            "           0       0.98      0.98      0.98       980\n",
            "           1       0.99      0.99      0.99      1135\n",
            "           2       0.96      0.98      0.97      1032\n",
            "           3       0.98      0.98      0.98      1010\n",
            "           4       0.97      0.98      0.98       982\n",
            "           5       0.99      0.96      0.97       892\n",
            "           6       0.97      0.98      0.97       958\n",
            "           7       0.98      0.96      0.97      1028\n",
            "           8       0.95      0.98      0.96       974\n",
            "           9       0.99      0.95      0.97      1009\n",
            "\n",
            "    accuracy                           0.98     10000\n",
            "   macro avg       0.98      0.97      0.98     10000\n",
            "weighted avg       0.98      0.98      0.98     10000\n",
            "\n"
          ]
        }
      ]
    },
    {
      "cell_type": "markdown",
      "source": [
        "###7. Describe and explain your Result"
      ],
      "metadata": {
        "id": "kN-q3ldTkfti"
      }
    },
    {
      "cell_type": "markdown",
      "source": [
        "Menurut saya, melihat dari hasil permodelan Deep Learning dalam Machine Learning MNIST, untuk menganalisa / memprediksi tulisan tangan, memiliki hasil persentasi yang increase sejalan dengan banyaknya data yang di train dan testing."
      ],
      "metadata": {
        "id": "x5XFWB0AjEfU"
      }
    }
  ]
}