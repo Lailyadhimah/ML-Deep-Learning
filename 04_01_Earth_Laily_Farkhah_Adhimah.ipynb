{
  "cells": [
    {
      "cell_type": "markdown",
      "metadata": {
        "id": "Mrq5s9WWYcAV"
      },
      "source": [
        "# Preparation"
      ]
    },
    {
      "cell_type": "markdown",
      "metadata": {
        "id": "QOGAR9QHYcAZ"
      },
      "source": [
        "Preparation biasa dilakukan untuk mempersiapkan data sebelum masuk dalam tahap pemodelan. <br>\n",
        "Berikut adalah tahapan yang akan dilalui pada data `SC_HW1_bank_data.csv` sebelum tahap pemodelan :\n",
        "1. Import Library\n",
        "2. Input Dataset\n",
        "3. Preprocessing\n",
        "4. Train-Test Split"
      ]
    },
    {
      "cell_type": "markdown",
      "metadata": {
        "id": "RUIg363RYcAZ"
      },
      "source": [
        "## Import Library"
      ]
    },
    {
      "cell_type": "code",
      "execution_count": null,
      "metadata": {
        "id": "CWrO8BImYcAa"
      },
      "outputs": [],
      "source": [
        "import pandas as pd\n",
        "import numpy as np"
      ]
    },
    {
      "cell_type": "markdown",
      "metadata": {
        "id": "p_wYppbCYcAb"
      },
      "source": [
        "## Input Dataset"
      ]
    },
    {
      "cell_type": "code",
      "execution_count": null,
      "metadata": {
        "id": "bU29IupsYcAb"
      },
      "outputs": [],
      "source": [
        "#Membaca data dan memasukkannya ke dalam bentuk Pandas Dataframe\n",
        "df = pd.read_csv('https://raw.githubusercontent.com/Rietaros/kampus_merdeka/main/SC_HW1_bank_data.csv')"
      ]
    },
    {
      "cell_type": "code",
      "execution_count": null,
      "metadata": {
        "colab": {
          "base_uri": "https://localhost:8080/"
        },
        "id": "V7swrXGTYcAc",
        "outputId": "4a2f911a-9acd-4d87-fcb3-c62045930ad5"
      },
      "outputs": [
        {
          "output_type": "execute_result",
          "data": {
            "text/plain": [
              "Index(['RowNumber', 'CustomerId', 'Geography', 'Gender', 'Age', 'Tenure',\n",
              "       'Balance', 'NumOfProducts', 'HasCrCard', 'IsActiveMember',\n",
              "       'EstimatedSalary', 'Exited'],\n",
              "      dtype='object')"
            ]
          },
          "metadata": {},
          "execution_count": 3
        }
      ],
      "source": [
        "#Jalankan code untuk mengecek nama kolom yang tersedia\n",
        "df.columns"
      ]
    },
    {
      "cell_type": "code",
      "execution_count": null,
      "metadata": {
        "colab": {
          "base_uri": "https://localhost:8080/",
          "height": 423
        },
        "id": "tTrNqvZNCUBp",
        "outputId": "aec15e45-204c-44a4-b9d8-d5d658eb2433"
      },
      "outputs": [
        {
          "output_type": "execute_result",
          "data": {
            "text/plain": [
              "      RowNumber  CustomerId Geography  Gender  Age  Tenure    Balance  \\\n",
              "0             1    15634602    France  Female   42       2       0.00   \n",
              "1             2    15647311     Spain  Female   41       1   83807.86   \n",
              "2             3    15619304    France  Female   42       8  159660.80   \n",
              "3             4    15701354    France  Female   39       1       0.00   \n",
              "4             5    15737888     Spain  Female   43       2  125510.82   \n",
              "...         ...         ...       ...     ...  ...     ...        ...   \n",
              "9995       9996    15606229    France    Male   39       5       0.00   \n",
              "9996       9997    15569892    France    Male   35      10   57369.61   \n",
              "9997       9998    15584532    France  Female   36       7       0.00   \n",
              "9998       9999    15682355   Germany    Male   42       3   75075.31   \n",
              "9999      10000    15628319    France  Female   28       4  130142.79   \n",
              "\n",
              "      NumOfProducts  HasCrCard  IsActiveMember  EstimatedSalary  Exited  \n",
              "0                 1          1               1        101348.88       1  \n",
              "1                 1          0               1        112542.58       0  \n",
              "2                 3          1               0        113931.57       1  \n",
              "3                 2          0               0         93826.63       0  \n",
              "4                 1          1               1         79084.10       0  \n",
              "...             ...        ...             ...              ...     ...  \n",
              "9995              2          1               0         96270.64       0  \n",
              "9996              1          1               1        101699.77       0  \n",
              "9997              1          0               1         42085.58       1  \n",
              "9998              2          1               0         92888.52       1  \n",
              "9999              1          1               0         38190.78       0  \n",
              "\n",
              "[10000 rows x 12 columns]"
            ],
            "text/html": [
              "\n",
              "  <div id=\"df-17e7c1e8-fe2e-4ec0-ad6d-7f84185a718f\" class=\"colab-df-container\">\n",
              "    <div>\n",
              "<style scoped>\n",
              "    .dataframe tbody tr th:only-of-type {\n",
              "        vertical-align: middle;\n",
              "    }\n",
              "\n",
              "    .dataframe tbody tr th {\n",
              "        vertical-align: top;\n",
              "    }\n",
              "\n",
              "    .dataframe thead th {\n",
              "        text-align: right;\n",
              "    }\n",
              "</style>\n",
              "<table border=\"1\" class=\"dataframe\">\n",
              "  <thead>\n",
              "    <tr style=\"text-align: right;\">\n",
              "      <th></th>\n",
              "      <th>RowNumber</th>\n",
              "      <th>CustomerId</th>\n",
              "      <th>Geography</th>\n",
              "      <th>Gender</th>\n",
              "      <th>Age</th>\n",
              "      <th>Tenure</th>\n",
              "      <th>Balance</th>\n",
              "      <th>NumOfProducts</th>\n",
              "      <th>HasCrCard</th>\n",
              "      <th>IsActiveMember</th>\n",
              "      <th>EstimatedSalary</th>\n",
              "      <th>Exited</th>\n",
              "    </tr>\n",
              "  </thead>\n",
              "  <tbody>\n",
              "    <tr>\n",
              "      <th>0</th>\n",
              "      <td>1</td>\n",
              "      <td>15634602</td>\n",
              "      <td>France</td>\n",
              "      <td>Female</td>\n",
              "      <td>42</td>\n",
              "      <td>2</td>\n",
              "      <td>0.00</td>\n",
              "      <td>1</td>\n",
              "      <td>1</td>\n",
              "      <td>1</td>\n",
              "      <td>101348.88</td>\n",
              "      <td>1</td>\n",
              "    </tr>\n",
              "    <tr>\n",
              "      <th>1</th>\n",
              "      <td>2</td>\n",
              "      <td>15647311</td>\n",
              "      <td>Spain</td>\n",
              "      <td>Female</td>\n",
              "      <td>41</td>\n",
              "      <td>1</td>\n",
              "      <td>83807.86</td>\n",
              "      <td>1</td>\n",
              "      <td>0</td>\n",
              "      <td>1</td>\n",
              "      <td>112542.58</td>\n",
              "      <td>0</td>\n",
              "    </tr>\n",
              "    <tr>\n",
              "      <th>2</th>\n",
              "      <td>3</td>\n",
              "      <td>15619304</td>\n",
              "      <td>France</td>\n",
              "      <td>Female</td>\n",
              "      <td>42</td>\n",
              "      <td>8</td>\n",
              "      <td>159660.80</td>\n",
              "      <td>3</td>\n",
              "      <td>1</td>\n",
              "      <td>0</td>\n",
              "      <td>113931.57</td>\n",
              "      <td>1</td>\n",
              "    </tr>\n",
              "    <tr>\n",
              "      <th>3</th>\n",
              "      <td>4</td>\n",
              "      <td>15701354</td>\n",
              "      <td>France</td>\n",
              "      <td>Female</td>\n",
              "      <td>39</td>\n",
              "      <td>1</td>\n",
              "      <td>0.00</td>\n",
              "      <td>2</td>\n",
              "      <td>0</td>\n",
              "      <td>0</td>\n",
              "      <td>93826.63</td>\n",
              "      <td>0</td>\n",
              "    </tr>\n",
              "    <tr>\n",
              "      <th>4</th>\n",
              "      <td>5</td>\n",
              "      <td>15737888</td>\n",
              "      <td>Spain</td>\n",
              "      <td>Female</td>\n",
              "      <td>43</td>\n",
              "      <td>2</td>\n",
              "      <td>125510.82</td>\n",
              "      <td>1</td>\n",
              "      <td>1</td>\n",
              "      <td>1</td>\n",
              "      <td>79084.10</td>\n",
              "      <td>0</td>\n",
              "    </tr>\n",
              "    <tr>\n",
              "      <th>...</th>\n",
              "      <td>...</td>\n",
              "      <td>...</td>\n",
              "      <td>...</td>\n",
              "      <td>...</td>\n",
              "      <td>...</td>\n",
              "      <td>...</td>\n",
              "      <td>...</td>\n",
              "      <td>...</td>\n",
              "      <td>...</td>\n",
              "      <td>...</td>\n",
              "      <td>...</td>\n",
              "      <td>...</td>\n",
              "    </tr>\n",
              "    <tr>\n",
              "      <th>9995</th>\n",
              "      <td>9996</td>\n",
              "      <td>15606229</td>\n",
              "      <td>France</td>\n",
              "      <td>Male</td>\n",
              "      <td>39</td>\n",
              "      <td>5</td>\n",
              "      <td>0.00</td>\n",
              "      <td>2</td>\n",
              "      <td>1</td>\n",
              "      <td>0</td>\n",
              "      <td>96270.64</td>\n",
              "      <td>0</td>\n",
              "    </tr>\n",
              "    <tr>\n",
              "      <th>9996</th>\n",
              "      <td>9997</td>\n",
              "      <td>15569892</td>\n",
              "      <td>France</td>\n",
              "      <td>Male</td>\n",
              "      <td>35</td>\n",
              "      <td>10</td>\n",
              "      <td>57369.61</td>\n",
              "      <td>1</td>\n",
              "      <td>1</td>\n",
              "      <td>1</td>\n",
              "      <td>101699.77</td>\n",
              "      <td>0</td>\n",
              "    </tr>\n",
              "    <tr>\n",
              "      <th>9997</th>\n",
              "      <td>9998</td>\n",
              "      <td>15584532</td>\n",
              "      <td>France</td>\n",
              "      <td>Female</td>\n",
              "      <td>36</td>\n",
              "      <td>7</td>\n",
              "      <td>0.00</td>\n",
              "      <td>1</td>\n",
              "      <td>0</td>\n",
              "      <td>1</td>\n",
              "      <td>42085.58</td>\n",
              "      <td>1</td>\n",
              "    </tr>\n",
              "    <tr>\n",
              "      <th>9998</th>\n",
              "      <td>9999</td>\n",
              "      <td>15682355</td>\n",
              "      <td>Germany</td>\n",
              "      <td>Male</td>\n",
              "      <td>42</td>\n",
              "      <td>3</td>\n",
              "      <td>75075.31</td>\n",
              "      <td>2</td>\n",
              "      <td>1</td>\n",
              "      <td>0</td>\n",
              "      <td>92888.52</td>\n",
              "      <td>1</td>\n",
              "    </tr>\n",
              "    <tr>\n",
              "      <th>9999</th>\n",
              "      <td>10000</td>\n",
              "      <td>15628319</td>\n",
              "      <td>France</td>\n",
              "      <td>Female</td>\n",
              "      <td>28</td>\n",
              "      <td>4</td>\n",
              "      <td>130142.79</td>\n",
              "      <td>1</td>\n",
              "      <td>1</td>\n",
              "      <td>0</td>\n",
              "      <td>38190.78</td>\n",
              "      <td>0</td>\n",
              "    </tr>\n",
              "  </tbody>\n",
              "</table>\n",
              "<p>10000 rows × 12 columns</p>\n",
              "</div>\n",
              "    <div class=\"colab-df-buttons\">\n",
              "\n",
              "  <div class=\"colab-df-container\">\n",
              "    <button class=\"colab-df-convert\" onclick=\"convertToInteractive('df-17e7c1e8-fe2e-4ec0-ad6d-7f84185a718f')\"\n",
              "            title=\"Convert this dataframe to an interactive table.\"\n",
              "            style=\"display:none;\">\n",
              "\n",
              "  <svg xmlns=\"http://www.w3.org/2000/svg\" height=\"24px\" viewBox=\"0 -960 960 960\">\n",
              "    <path d=\"M120-120v-720h720v720H120Zm60-500h600v-160H180v160Zm220 220h160v-160H400v160Zm0 220h160v-160H400v160ZM180-400h160v-160H180v160Zm440 0h160v-160H620v160ZM180-180h160v-160H180v160Zm440 0h160v-160H620v160Z\"/>\n",
              "  </svg>\n",
              "    </button>\n",
              "\n",
              "  <style>\n",
              "    .colab-df-container {\n",
              "      display:flex;\n",
              "      gap: 12px;\n",
              "    }\n",
              "\n",
              "    .colab-df-convert {\n",
              "      background-color: #E8F0FE;\n",
              "      border: none;\n",
              "      border-radius: 50%;\n",
              "      cursor: pointer;\n",
              "      display: none;\n",
              "      fill: #1967D2;\n",
              "      height: 32px;\n",
              "      padding: 0 0 0 0;\n",
              "      width: 32px;\n",
              "    }\n",
              "\n",
              "    .colab-df-convert:hover {\n",
              "      background-color: #E2EBFA;\n",
              "      box-shadow: 0px 1px 2px rgba(60, 64, 67, 0.3), 0px 1px 3px 1px rgba(60, 64, 67, 0.15);\n",
              "      fill: #174EA6;\n",
              "    }\n",
              "\n",
              "    .colab-df-buttons div {\n",
              "      margin-bottom: 4px;\n",
              "    }\n",
              "\n",
              "    [theme=dark] .colab-df-convert {\n",
              "      background-color: #3B4455;\n",
              "      fill: #D2E3FC;\n",
              "    }\n",
              "\n",
              "    [theme=dark] .colab-df-convert:hover {\n",
              "      background-color: #434B5C;\n",
              "      box-shadow: 0px 1px 3px 1px rgba(0, 0, 0, 0.15);\n",
              "      filter: drop-shadow(0px 1px 2px rgba(0, 0, 0, 0.3));\n",
              "      fill: #FFFFFF;\n",
              "    }\n",
              "  </style>\n",
              "\n",
              "    <script>\n",
              "      const buttonEl =\n",
              "        document.querySelector('#df-17e7c1e8-fe2e-4ec0-ad6d-7f84185a718f button.colab-df-convert');\n",
              "      buttonEl.style.display =\n",
              "        google.colab.kernel.accessAllowed ? 'block' : 'none';\n",
              "\n",
              "      async function convertToInteractive(key) {\n",
              "        const element = document.querySelector('#df-17e7c1e8-fe2e-4ec0-ad6d-7f84185a718f');\n",
              "        const dataTable =\n",
              "          await google.colab.kernel.invokeFunction('convertToInteractive',\n",
              "                                                    [key], {});\n",
              "        if (!dataTable) return;\n",
              "\n",
              "        const docLinkHtml = 'Like what you see? Visit the ' +\n",
              "          '<a target=\"_blank\" href=https://colab.research.google.com/notebooks/data_table.ipynb>data table notebook</a>'\n",
              "          + ' to learn more about interactive tables.';\n",
              "        element.innerHTML = '';\n",
              "        dataTable['output_type'] = 'display_data';\n",
              "        await google.colab.output.renderOutput(dataTable, element);\n",
              "        const docLink = document.createElement('div');\n",
              "        docLink.innerHTML = docLinkHtml;\n",
              "        element.appendChild(docLink);\n",
              "      }\n",
              "    </script>\n",
              "  </div>\n",
              "\n",
              "\n",
              "<div id=\"df-f1702906-39b2-4433-ba7d-371885872d86\">\n",
              "  <button class=\"colab-df-quickchart\" onclick=\"quickchart('df-f1702906-39b2-4433-ba7d-371885872d86')\"\n",
              "            title=\"Suggest charts.\"\n",
              "            style=\"display:none;\">\n",
              "\n",
              "<svg xmlns=\"http://www.w3.org/2000/svg\" height=\"24px\"viewBox=\"0 0 24 24\"\n",
              "     width=\"24px\">\n",
              "    <g>\n",
              "        <path d=\"M19 3H5c-1.1 0-2 .9-2 2v14c0 1.1.9 2 2 2h14c1.1 0 2-.9 2-2V5c0-1.1-.9-2-2-2zM9 17H7v-7h2v7zm4 0h-2V7h2v10zm4 0h-2v-4h2v4z\"/>\n",
              "    </g>\n",
              "</svg>\n",
              "  </button>\n",
              "\n",
              "<style>\n",
              "  .colab-df-quickchart {\n",
              "      --bg-color: #E8F0FE;\n",
              "      --fill-color: #1967D2;\n",
              "      --hover-bg-color: #E2EBFA;\n",
              "      --hover-fill-color: #174EA6;\n",
              "      --disabled-fill-color: #AAA;\n",
              "      --disabled-bg-color: #DDD;\n",
              "  }\n",
              "\n",
              "  [theme=dark] .colab-df-quickchart {\n",
              "      --bg-color: #3B4455;\n",
              "      --fill-color: #D2E3FC;\n",
              "      --hover-bg-color: #434B5C;\n",
              "      --hover-fill-color: #FFFFFF;\n",
              "      --disabled-bg-color: #3B4455;\n",
              "      --disabled-fill-color: #666;\n",
              "  }\n",
              "\n",
              "  .colab-df-quickchart {\n",
              "    background-color: var(--bg-color);\n",
              "    border: none;\n",
              "    border-radius: 50%;\n",
              "    cursor: pointer;\n",
              "    display: none;\n",
              "    fill: var(--fill-color);\n",
              "    height: 32px;\n",
              "    padding: 0;\n",
              "    width: 32px;\n",
              "  }\n",
              "\n",
              "  .colab-df-quickchart:hover {\n",
              "    background-color: var(--hover-bg-color);\n",
              "    box-shadow: 0 1px 2px rgba(60, 64, 67, 0.3), 0 1px 3px 1px rgba(60, 64, 67, 0.15);\n",
              "    fill: var(--button-hover-fill-color);\n",
              "  }\n",
              "\n",
              "  .colab-df-quickchart-complete:disabled,\n",
              "  .colab-df-quickchart-complete:disabled:hover {\n",
              "    background-color: var(--disabled-bg-color);\n",
              "    fill: var(--disabled-fill-color);\n",
              "    box-shadow: none;\n",
              "  }\n",
              "\n",
              "  .colab-df-spinner {\n",
              "    border: 2px solid var(--fill-color);\n",
              "    border-color: transparent;\n",
              "    border-bottom-color: var(--fill-color);\n",
              "    animation:\n",
              "      spin 1s steps(1) infinite;\n",
              "  }\n",
              "\n",
              "  @keyframes spin {\n",
              "    0% {\n",
              "      border-color: transparent;\n",
              "      border-bottom-color: var(--fill-color);\n",
              "      border-left-color: var(--fill-color);\n",
              "    }\n",
              "    20% {\n",
              "      border-color: transparent;\n",
              "      border-left-color: var(--fill-color);\n",
              "      border-top-color: var(--fill-color);\n",
              "    }\n",
              "    30% {\n",
              "      border-color: transparent;\n",
              "      border-left-color: var(--fill-color);\n",
              "      border-top-color: var(--fill-color);\n",
              "      border-right-color: var(--fill-color);\n",
              "    }\n",
              "    40% {\n",
              "      border-color: transparent;\n",
              "      border-right-color: var(--fill-color);\n",
              "      border-top-color: var(--fill-color);\n",
              "    }\n",
              "    60% {\n",
              "      border-color: transparent;\n",
              "      border-right-color: var(--fill-color);\n",
              "    }\n",
              "    80% {\n",
              "      border-color: transparent;\n",
              "      border-right-color: var(--fill-color);\n",
              "      border-bottom-color: var(--fill-color);\n",
              "    }\n",
              "    90% {\n",
              "      border-color: transparent;\n",
              "      border-bottom-color: var(--fill-color);\n",
              "    }\n",
              "  }\n",
              "</style>\n",
              "\n",
              "  <script>\n",
              "    async function quickchart(key) {\n",
              "      const quickchartButtonEl =\n",
              "        document.querySelector('#' + key + ' button');\n",
              "      quickchartButtonEl.disabled = true;  // To prevent multiple clicks.\n",
              "      quickchartButtonEl.classList.add('colab-df-spinner');\n",
              "      try {\n",
              "        const charts = await google.colab.kernel.invokeFunction(\n",
              "            'suggestCharts', [key], {});\n",
              "      } catch (error) {\n",
              "        console.error('Error during call to suggestCharts:', error);\n",
              "      }\n",
              "      quickchartButtonEl.classList.remove('colab-df-spinner');\n",
              "      quickchartButtonEl.classList.add('colab-df-quickchart-complete');\n",
              "    }\n",
              "    (() => {\n",
              "      let quickchartButtonEl =\n",
              "        document.querySelector('#df-f1702906-39b2-4433-ba7d-371885872d86 button');\n",
              "      quickchartButtonEl.style.display =\n",
              "        google.colab.kernel.accessAllowed ? 'block' : 'none';\n",
              "    })();\n",
              "  </script>\n",
              "</div>\n",
              "    </div>\n",
              "  </div>\n"
            ]
          },
          "metadata": {},
          "execution_count": 4
        }
      ],
      "source": [
        "df"
      ]
    },
    {
      "cell_type": "code",
      "execution_count": null,
      "metadata": {
        "colab": {
          "base_uri": "https://localhost:8080/"
        },
        "id": "zchKaeaVGdZ6",
        "outputId": "f516a3d0-23e5-40d4-dc02-33f02910b316"
      },
      "outputs": [
        {
          "output_type": "execute_result",
          "data": {
            "text/plain": [
              "array(['Female', 'Male'], dtype=object)"
            ]
          },
          "metadata": {},
          "execution_count": 5
        }
      ],
      "source": [
        "df['Gender'].unique()"
      ]
    },
    {
      "cell_type": "code",
      "execution_count": null,
      "metadata": {
        "colab": {
          "base_uri": "https://localhost:8080/"
        },
        "id": "zFwJUrgfGfjI",
        "outputId": "63075deb-a513-4861-f0f5-20931af2da05"
      },
      "outputs": [
        {
          "output_type": "execute_result",
          "data": {
            "text/plain": [
              "array(['France', 'Spain', 'Germany'], dtype=object)"
            ]
          },
          "metadata": {},
          "execution_count": 6
        }
      ],
      "source": [
        "df['Geography'].unique()"
      ]
    },
    {
      "cell_type": "code",
      "execution_count": null,
      "metadata": {
        "id": "ySBcdpGy4rb3"
      },
      "outputs": [],
      "source": [
        "#Hilangkan kolom yang dirasa tidak relevan dengan model (contoh: ID). None dapat diisi dengan nama-nama kolom yang akan digunakan.\n",
        "#Contoh df = df[['X1','X2', 'Y']].copy()\n",
        "\n",
        "#START CODE\n",
        "df = df[['Geography', 'Gender', 'Age', 'Tenure',\n",
        "          'Balance', 'NumOfProducts', 'HasCrCard', 'IsActiveMember',\n",
        "          'EstimatedSalary', 'Exited']].copy()"
      ]
    },
    {
      "cell_type": "markdown",
      "metadata": {
        "id": "VAUrcQVIYcAe"
      },
      "source": [
        "## Preprocessing"
      ]
    },
    {
      "cell_type": "code",
      "execution_count": null,
      "metadata": {
        "id": "owVHMXqEYcAe"
      },
      "outputs": [],
      "source": [
        "#Lakukan One-Hot Encoder untuk data categorical, dengan fungsi pandas get_dummies\n",
        "\n",
        "#START CODE\n",
        "df = pd.get_dummies(df, columns=['Geography', 'Gender'])"
      ]
    },
    {
      "cell_type": "code",
      "execution_count": null,
      "metadata": {
        "id": "zMNWzfUbYcAf"
      },
      "outputs": [],
      "source": [
        "#Pisahkan mana X (feature) dengan Y,\n",
        "#Y adalah kolom \"Exited\"\n",
        "\n",
        "#START CODE\n",
        "X = df.drop('Exited', axis=1)  # Mengambil semua kolom kecuali 'Exited'\n",
        "y = df['Exited']  # Mengambil kolom 'Exited' sebagai target (Y)"
      ]
    },
    {
      "cell_type": "code",
      "execution_count": null,
      "metadata": {
        "id": "XWfdSiCxYcAg"
      },
      "outputs": [],
      "source": [
        "#Lakukan Scaler dan/atau Noermalisasi jika diperlukan\n",
        "from sklearn.preprocessing import MinMaxScaler\n",
        "\n",
        "#START CODE\n",
        "scaler = MinMaxScaler()\n",
        "X_transform = scaler.fit_transform(X)"
      ]
    },
    {
      "cell_type": "code",
      "execution_count": null,
      "metadata": {
        "colab": {
          "base_uri": "https://localhost:8080/"
        },
        "id": "uRnlPn_Z1Bs4",
        "outputId": "5fdb597f-8e16-4cd3-a75c-1c4aefd75758"
      },
      "outputs": [
        {
          "output_type": "stream",
          "name": "stdout",
          "text": [
            "X (Fitur setelah scaling):\n",
            "[[0.32432432 0.2        0.         ... 0.         1.         0.        ]\n",
            " [0.31081081 0.1        0.33403148 ... 1.         1.         0.        ]\n",
            " [0.32432432 0.8        0.63635718 ... 0.         1.         0.        ]\n",
            " ...\n",
            " [0.24324324 0.7        0.         ... 0.         1.         0.        ]\n",
            " [0.32432432 0.3        0.29922631 ... 0.         0.         1.        ]\n",
            " [0.13513514 0.4        0.51870777 ... 0.         1.         0.        ]]\n",
            "\n",
            "Y (Target):\n",
            "0       1\n",
            "1       0\n",
            "2       1\n",
            "3       0\n",
            "4       0\n",
            "       ..\n",
            "9995    0\n",
            "9996    0\n",
            "9997    1\n",
            "9998    1\n",
            "9999    0\n",
            "Name: Exited, Length: 10000, dtype: int64\n"
          ]
        }
      ],
      "source": [
        "print(\"X (Fitur setelah scaling):\")\n",
        "print(X_transform)\n",
        "\n",
        "print(\"\\nY (Target):\")\n",
        "print(y)"
      ]
    },
    {
      "cell_type": "code",
      "execution_count": null,
      "metadata": {
        "id": "W5u5pH3uYcAg"
      },
      "outputs": [],
      "source": [
        "#Ini digunakan jika dilakukan scaler/Normalisas. Jika tidak, code ini bisa dilewat dan diganti dengan code yang ada di dalam komen\n",
        "X_transform = pd.DataFrame(X_transform, columns = X.columns)\n",
        "#X_transform = X.copy()"
      ]
    },
    {
      "cell_type": "markdown",
      "metadata": {
        "id": "4Pi0qKQAYcAh"
      },
      "source": [
        "## Train-Test Split"
      ]
    },
    {
      "cell_type": "code",
      "execution_count": null,
      "metadata": {
        "id": "0RDnybGDYcAh"
      },
      "outputs": [],
      "source": [
        "#Split menjadi train dan test dengan test_size 25%\n",
        "#Tidak perlu mengubah code ini\n",
        "\n",
        "from sklearn.model_selection import train_test_split\n",
        "X_train,X_test,y_train,y_test = train_test_split(X_transform,y,test_size = 0.25,random_state = 123)"
      ]
    },
    {
      "cell_type": "code",
      "execution_count": null,
      "metadata": {
        "colab": {
          "base_uri": "https://localhost:8080/"
        },
        "id": "Rf3-caJlJyD5",
        "outputId": "af8be582-40ac-4a70-ddf6-d41de9cbc954"
      },
      "outputs": [
        {
          "output_type": "execute_result",
          "data": {
            "text/plain": [
              "((7500, 12), (7500,))"
            ]
          },
          "metadata": {},
          "execution_count": 14
        }
      ],
      "source": [
        "X_train.shape, y_train.shape"
      ]
    },
    {
      "cell_type": "code",
      "execution_count": null,
      "metadata": {
        "colab": {
          "base_uri": "https://localhost:8080/"
        },
        "id": "s8Do3AFQ1XD_",
        "outputId": "ef1e806f-e5ff-4ef8-d29a-1afc31d92da4"
      },
      "outputs": [
        {
          "output_type": "stream",
          "name": "stdout",
          "text": [
            "Before Oversampling, counts of label '1':1520\n",
            "Before Oversampling, counts of label '0':5980\n",
            "\n",
            "After Oversamplng, the shape of train_x: (11960, 12)\n",
            "After Oversamplng, the shape of train_y: (11960, 12)\n",
            "\n",
            "After Oversamplng, counts of label '1': 5980\n",
            "After Oversamplng, counts of label '0' : 5980\n"
          ]
        }
      ],
      "source": [
        "print(\"Before Oversampling, counts of label '1':{}\".format(sum(y_train ==1)))\n",
        "print(\"Before Oversampling, counts of label '0':{}\\n\".format(sum(y_train ==0)))\n",
        "\n",
        "\n",
        "from imblearn.over_sampling import SMOTE\n",
        "sm = SMOTE(random_state =2)\n",
        "x_train_res, y_train_res = sm.fit_resample(X_train, y_train.ravel())\n",
        "\n",
        "print('After Oversamplng, the shape of train_x: {}'.format(x_train_res.shape))\n",
        "print('After Oversamplng, the shape of train_y: {}\\n'.format(x_train_res.shape))\n",
        "\n",
        "print(\"After Oversamplng, counts of label '1': {}\".format(sum(y_train_res == 1)))\n",
        "print(\"After Oversamplng, counts of label '0' : {}\".format(sum(y_train_res == 0)))"
      ]
    },
    {
      "cell_type": "markdown",
      "metadata": {
        "id": "3hIL9sbPYcAh"
      },
      "source": [
        "# Modeling"
      ]
    },
    {
      "cell_type": "markdown",
      "metadata": {
        "id": "9PPYhjm3YcAi"
      },
      "source": [
        "## Model1\n",
        "##KNN (K-Nearest Neighbors)"
      ]
    },
    {
      "cell_type": "markdown",
      "metadata": {
        "id": "Lt2iNWWTYcAj"
      },
      "source": [
        "### Soal :\n",
        "Jelaskan secara Singkat Model pertama yang digunakan!\n",
        "\n",
        "\n",
        "K-Nearest Neighbors (KNN) adalah salah satu algoritma machine learning yang digunakan untuk tugas-tugas seperti klasifikasi dan regresi. Algoritma KNN bekerja berdasarkan konsep bahwa objek yang serupa cenderung berada dekat satu sama lain dalam ruang fitur. Ini adalah salah satu algoritma yang mudah dipahami dan dapat digunakan dalam berbagai kasus. KNN mengasumsikan bahwa jika memiliki dataset yang berisi poin-poin data dalam ruang fitur dapat diklasifikasikan objek baru dengan cara mencari k-nearest neighbors (k tetangga terdekat) dari objek tersebut dalam ruang fitur. Ini berarti objek baru akan diklasifikasikan berdasarkan mayoritas label k tetangga terdekatnya.\n",
        "\n",
        "Nilai K adalah parameter yang dapat Anda tentukan, dan itu menentukan jumlah tetangga terdekat yang akan dipertimbangkan saat membuat prediksi. Anda dapat mencoba berbagai nilai K dan memilih yang memberikan hasil terbaik. Untuk menemukan tetangga terdekat, KNN menggunakan perhitungan jarak antara objek baru dan setiap poin data dalam dataset."
      ]
    },
    {
      "cell_type": "code",
      "execution_count": null,
      "metadata": {
        "id": "bnqFXuCyYcAk"
      },
      "outputs": [],
      "source": [
        "#Pilih salah satu metode Machine Leaarning\n",
        "#Model Machine Learning dapat dipanggil terlebih dahulu melalui library yang digunakan. Gunakan library scikit learn seperti pada contoh\n",
        "\n",
        "#Contoh pemanggilan library dan penggunaannya dalam model\n",
        "\n",
        "#from sklearn.linear_model import LogisticRegression\n",
        "#model1 = LogisticRegression()\n",
        "#params = { \"tol\": [0.1,0.01,0.001], 'C':[0.5,1.0,1.5,2.0]}\n",
        "\n",
        "\n",
        "#START CODE\n",
        "from sklearn.neighbors import KNeighborsClassifier\n",
        "from sklearn.model_selection import GridSearchCV\n",
        "model = KNeighborsClassifier()\n",
        "params = {'tol': [0.1,0.01,0.001], 'C':[0.5,1.0,1.5,2.0]}\n",
        "grid_search = GridSearchCV(estimator=model, param_grid=params, cv=5)\n",
        "model.fit(X_train,y_train)\n",
        "y_pred = model.predict(X_test)"
      ]
    },
    {
      "cell_type": "code",
      "execution_count": null,
      "metadata": {
        "colab": {
          "base_uri": "https://localhost:8080/"
        },
        "id": "1f32JE8kYcAk",
        "outputId": "110bc662-98ba-49bf-d495-fd378f5da8e3"
      },
      "outputs": [
        {
          "output_type": "stream",
          "name": "stdout",
          "text": [
            "              precision    recall  f1-score   support\n",
            "\n",
            "           0       0.85      0.95      0.90      1983\n",
            "           1       0.63      0.36      0.46       517\n",
            "\n",
            "    accuracy                           0.82      2500\n",
            "   macro avg       0.74      0.65      0.68      2500\n",
            "weighted avg       0.80      0.82      0.80      2500\n",
            "\n",
            "\n",
            "[[1876  107]\n",
            " [ 333  184]]\n",
            "\n",
            "0.824\n"
          ]
        }
      ],
      "source": [
        "#lakukan evaluasi dengan beberapa maetric di bawah ini\n",
        "from sklearn.metrics import classification_report\n",
        "from sklearn.metrics import accuracy_score\n",
        "from sklearn.metrics import confusion_matrix\n",
        "\n",
        "y_pred = model.predict(X_test)\n",
        "\n",
        "print(classification_report(y_test,y_pred))\n",
        "print(\"\")\n",
        "print(confusion_matrix(y_test,y_pred))\n",
        "print(\"\")\n",
        "print(accuracy_score(y_test, y_pred))"
      ]
    },
    {
      "cell_type": "markdown",
      "metadata": {
        "id": "LXuooROd4rb8"
      },
      "source": [
        "## Model2\n",
        "## Gradient Boosting\n",
        "### Soal :\n",
        "Jelaskan secara Singkat Model ke-2 yang digunakan!\n",
        "\n",
        "Boosting adalah salah satu metode ensemble learning dalam machine learning yang bertujuan untuk meningkatkan kinerja model prediksi dengan menggabungkan beberapa model lemah menjadi satu model yang kuat. Ide dasar di balik Boosting adalah memberi bobot lebih pada data yang sulit dipecahkan oleh model lemah sebelumnya, sehingga model ensemble akhir lebih mampu menangani kasus-kasus sulit tersebut. Metode Boosting yang paling terkenal adalah AdaBoost (Adaptive Boosting) dan Gradient Boosting.\n",
        "\n",
        "Pada model kedua ini saya menggunakan Gradient Boosting adalah salah satu metode ensemble learning yang digunakan dalam machine learning untuk meningkatkan kinerja model prediksi, terutama dalam masalah regresi dan klasifikasi. Ini adalah salah satu teknik yang sangat kuat dan sering digunakan dalam kompetisi data science. Seperti dalam metode ensemble lainnya, Gradient Boosting juga menggabungkan beberapa model lemah (biasanya pohon keputusan dangkal atau Decision Stump) menjadi satu model yang lebih kuat. Model lemah ini disebut \"weak learner\" karena mereka memiliki kinerja yang hanya sedikit di atas acak.\n",
        "\n",
        "Proses Gradient Boosting adalah iteratif, yang berarti bahwa model ditingkatkan secara bertahap. Algoritma ini memulai dengan model lemah pertama dan kemudian mengubah model ini pada setiap iterasi berikutnya untuk meningkatkan performanya. Learning rate adalah parameter yang mengontrol sejauh mana model diperbarui pada setiap iterasi. Nilai learning rate yang lebih kecil cenderung menghasilkan konvergensi yang lebih lambat tetapi hasil yang lebih baik, sedangkan nilai yang lebih besar dapat menghasilkan konvergensi yang lebih cepat tetapi risiko melewati solusi yang optimal."
      ]
    },
    {
      "cell_type": "code",
      "execution_count": null,
      "metadata": {
        "colab": {
          "base_uri": "https://localhost:8080/"
        },
        "id": "HfJRofJL4rb8",
        "outputId": "39436e55-19b9-4ed1-ad49-c52c822a060b"
      },
      "outputs": [
        {
          "output_type": "stream",
          "name": "stdout",
          "text": [
            "Parameter terbaik: {'learning_rate': 0.1, 'max_depth': 3, 'n_estimators': 200, 'subsample': 0.8}\n"
          ]
        }
      ],
      "source": [
        "#Pilih salah satu metode Machine Leaarning\n",
        "#Model Machine Learning dapat dipanggil terlebih dahulu melalui library yang digunakan. Gunakan library scikit learn seperti pada contoh\n",
        "\n",
        "#Contoh pemanggilan library dan penggunaannya dalam model\n",
        "\n",
        "#from sklearn.linear_model import LogisticRegression\n",
        "#model1 = LogisticRegression()\n",
        "#params = { \"tol\": [0.1,0.01,0.001], 'C':[0.5,1.0,1.5,2.0]}\n",
        "\n",
        "\n",
        "#START CODE\n",
        "import xgboost as xgb\n",
        "from sklearn.model_selection import GridSearchCV\n",
        "\n",
        "# Membuat model XGBoost\n",
        "model2 = xgb.XGBClassifier()\n",
        "\n",
        "# Menentukan parameter grid yang akan diteliti\n",
        "params = {\n",
        "    'learning_rate': [0.01, 0.1, 0.2],\n",
        "    'max_depth': [3, 4, 5],\n",
        "    'n_estimators': [100, 200, 300],\n",
        "    'subsample': [0.8, 0.9, 1.0],\n",
        "}\n",
        "\n",
        "# Membuat objek GridSearchCV\n",
        "grid = GridSearchCV(\n",
        "    estimator=model2,\n",
        "    param_grid=params,\n",
        "    scoring='accuracy',\n",
        "    n_jobs=10,\n",
        "    cv=10\n",
        ")\n",
        "\n",
        "grid.fit(X_train,y_train)\n",
        "# Menampilkan parameter terbaik\n",
        "best_params = grid.best_params_\n",
        "print(\"Parameter terbaik:\", best_params)"
      ]
    },
    {
      "cell_type": "code",
      "execution_count": null,
      "metadata": {
        "id": "GOZ6oeyW4rb9",
        "colab": {
          "base_uri": "https://localhost:8080/"
        },
        "outputId": "e68a28f8-9bb9-4ada-83d5-867b8c717c2b"
      },
      "outputs": [
        {
          "output_type": "stream",
          "name": "stdout",
          "text": [
            "              precision    recall  f1-score   support\n",
            "\n",
            "           0       0.88      0.96      0.92      1983\n",
            "           1       0.77      0.50      0.61       517\n",
            "\n",
            "    accuracy                           0.87      2500\n",
            "   macro avg       0.83      0.73      0.77      2500\n",
            "weighted avg       0.86      0.87      0.86      2500\n",
            "\n",
            "\n",
            "[[1907   76]\n",
            " [ 256  261]]\n",
            "\n",
            "0.8672\n"
          ]
        }
      ],
      "source": [
        "#lakukan evaluasi\n",
        "from sklearn.metrics import classification_report\n",
        "from sklearn.metrics import accuracy_score\n",
        "from sklearn.metrics import confusion_matrix\n",
        "\n",
        "y_pred = grid.predict(X_test)\n",
        "\n",
        "print(classification_report(y_test,y_pred))\n",
        "print(\"\")\n",
        "print(confusion_matrix(y_test,y_pred))\n",
        "print(\"\")\n",
        "print(accuracy_score(y_test, y_pred))"
      ]
    },
    {
      "cell_type": "markdown",
      "metadata": {
        "id": "poj5B7fF4rb9"
      },
      "source": [
        "## Model3\n",
        "## Support Vector Machine (SVM)\n",
        "### Soal :\n",
        "Jelaskan secara Singkat Model ke-3 yang digunakan!\n",
        "\n",
        "Model Support Vector Machine (SVM) adalah salah satu algoritma machine learning yang digunakan untuk klasifikasi dan regresi. Algoritma ini terutama digunakan dalam masalah klasifikasi, dan dapat digunakan dalam masalah dengan dua kelas (binary classification) maupun lebih dari dua kelas (multi-class classification).\n",
        "\n",
        "SVM mencoba untuk membagi dataset menjadi dua kelas dengan mencari hyperplane terbaik yang memisahkan kelas-kelas ini dengan margin yang maksimal. Hyperplane ini merupakan batas keputusan yang digunakan untuk memprediksi kelas dari objek baru. Margin adalah jarak antara hyperplane dan titik-titik terdekat dari setiap kelas. Tujuan SVM adalah untuk mencari hyperplane yang memiliki margin maksimal, yang berarti jarak antara hyperplane dan titik-titik terdekat adalah sebesar mungkin. Hal ini juga berarti SVM mencari hyperplane yang memiliki generalisasi yang baik terhadap data yang belum pernah dilihat sebelumnya.\n",
        "Support vectors adalah titik-titik data yang berada paling dekat dengan hyperplane, dan mereka adalah titik-titik yang paling penting dalam pemodelan SVM. Mereka digunakan untuk menentukan hyperplane yang optimal."
      ]
    },
    {
      "cell_type": "code",
      "execution_count": null,
      "metadata": {
        "id": "O6riqEA74rb9",
        "colab": {
          "base_uri": "https://localhost:8080/"
        },
        "outputId": "86d6c6e6-95a6-4cfc-b2c0-4c8bacde2eba"
      },
      "outputs": [
        {
          "output_type": "stream",
          "name": "stdout",
          "text": [
            "Akurasi model SVM: 0.8316\n"
          ]
        }
      ],
      "source": [
        "#Pilih salah satu metode Machine Leaarning\n",
        "#Model Machine Learning dapat dipanggil terlebih dahulu melalui library yang digunakan. Gunakan library scikit learn seperti pada contoh\n",
        "\n",
        "#Contoh pemanggilan library dan penggunaannya dalam model\n",
        "\n",
        "#from sklearn.linear_model import LogisticRegression\n",
        "#model1 = LogisticRegression()\n",
        "#params = { \"tol\": [0.1,0.01,0.001], 'C':[0.5,1.0,1.5,2.0]}\n",
        "\n",
        "\n",
        "#START CODE\n",
        "from sklearn.svm import SVC\n",
        "model_svm = SVC()\n",
        "\n",
        "model_svm.fit(X_train, y_train.ravel())\n",
        "y_pred = model_svm.predict(X_test)\n",
        "\n",
        "accuracy = accuracy_score(y_test, y_pred)\n",
        "print(\"Akurasi model SVM:\", accuracy)\n",
        "\n"
      ]
    },
    {
      "cell_type": "markdown",
      "metadata": {
        "id": "Blfl1F2M4rb-"
      },
      "source": [
        "## Tarik Kesimpulan Model Mana yang terbaik beserta alasannya\n",
        "Kesimpulan yang dapat diambil dari hasil evaluasi tiga model yang saya gunakan di atas, model Gradient Boosting memiliki performa terbaik dengan accuracy score 0.8672.Kemudian yang kedua ada Model SVM dengan accuracy score 0.8316. Dan yang paling rendah berdasarkan evaluasi ini model ini adalah K-Nearest Neighbor.  "
      ]
    }
  ],
  "metadata": {
    "colab": {
      "provenance": []
    },
    "kernelspec": {
      "display_name": "Python 3",
      "language": "python",
      "name": "python3"
    },
    "language_info": {
      "codemirror_mode": {
        "name": "ipython",
        "version": 3
      },
      "file_extension": ".py",
      "mimetype": "text/x-python",
      "name": "python",
      "nbconvert_exporter": "python",
      "pygments_lexer": "ipython3",
      "version": "3.8.8"
    },
    "toc-autonumbering": true,
    "toc-showcode": false,
    "toc-showmarkdowntxt": false
  },
  "nbformat": 4,
  "nbformat_minor": 0
}